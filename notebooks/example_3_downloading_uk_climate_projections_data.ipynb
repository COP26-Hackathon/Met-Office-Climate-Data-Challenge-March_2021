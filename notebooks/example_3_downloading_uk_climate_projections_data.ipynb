{
 "cells": [
  {
   "cell_type": "markdown",
   "metadata": {},
   "source": [
    "# Met Office Climate Data Hackathon\n",
    "\n",
    "## Downloading data for use with examples\n",
    "\n",
    "This notebook shows you how to download UK Climate Projections data for use with the notebook examples. \n",
    "\n",
    "The data files for the examples include:\n",
    " * monthly mean surface air temperature (available from CEDA Archive [here](http://dap.ceda.ac.uk/badc/ukcp18/data/land-rcm/uk/12km/rcp85/01/tas/mon/latest/tas_rcp85_land-rcm_uk_12km_01_mon_198012-208011.nc))\n",
    " * land mask (available from)\n",
    " * daily maximum surface air temperatures (available from CEDA Archive [here](http://data.ceda.ac.uk/badc/ukcp18/data/land-rcm/uk/12km/rcp85/01/tasmax/day/latest))"
   ]
  },
  {
   "cell_type": "markdown",
   "metadata": {},
   "source": [
    "## Introduction\n",
    "There are a number of ways to access data from the CEDA Archive, these are explained in the Hackathon Wiki pages (see [here](https://github.com/COP26-Hackathon/Met-Office-Climate-Data-Challenge-March_2021/wiki/Data-Sources#access-to-ukcp-datasets-including-haduk-grid)). They include:\n",
    "   1. **JASMIN**. If you're a university or UK Research Council researcher, you can access the datasets directly in JASMIN. You will need an account or [register for one](https://help.jasmin.ac.uk/article/4435-get-a-jasmin-account).\n",
    "   2. **CEDA Catalogue**. You can peruse and download datasets through the [CEDA Catalogue](https://catalogue.ceda.ac.uk) via direct download from the web page.\n",
    "   3. **FTP**. You can find datasets at ftp://ftp.ceda.ac.uk/ (see [CEDA help pages](https://help.ceda.ac.uk/article/280-ftp) for details).\n",
    "   4. **OpenDAP API**. Details are on the [STFC-CEDA web pages](https://help.ceda.ac.uk/article/4442-ceda-opendap-scripted-interactions)."
   ]
  },
  {
   "cell_type": "markdown",
   "metadata": {},
   "source": [
    "## For JASMIN users\n",
    "If you don't already have an account, check whether you're elgible [here](https://www.jasmin.ac.uk/users/access). The advantage of using JASMIN, is that you can work alongside the datasets in the same location.\n",
    "\n",
    "Use the following to login to jasmin and then to an analysis server:\n",
    "\n",
    "`$ exec ssh-agent $SHELL` <br>\n",
    "`$ ssh-add ~/.ssh/id_rsa_jasmin`<br>\n",
    "`$ ssh -A username@login1.jasmin.ac.uk`<br>\n",
    "`$ ssh sci1.jasmin.ac.uk` <br>\n",
    "\n",
    "You should find the required datasets as follows:\n",
    "\n",
    "`$ ls /badc/ukcp18/data/land-rcm/uk/12km/rcp85/01/tas/mon/latest`<br>\n",
    "`tas_rcp85_land-rcm_uk_12km_01_mon_198012-208011.nc`\n",
    "\n",
    "`$ ls /badc/ukcp18/data/land-rcm/uk/12km/rcp85/01/tasmax/day/latest`<br>\n",
    "`tasmax_rcp85_land-rcm_uk_12km_01_day_19801201-19901130.nc`<br>\n",
    "`tasmax_rcp85_land-rcm_uk_12km_01_day_19901201-20001130.nc`<br>\n",
    "`tasmax_rcp85_land-rcm_uk_12km_01_day_20001201-20101130.nc`<br>\n",
    "`tasmax_rcp85_land-rcm_uk_12km_01_day_20101201-20201130.nc`<br>\n",
    "`tasmax_rcp85_land-rcm_uk_12km_01_day_20201201-20301130.nc`<br>\n",
    "`tasmax_rcp85_land-rcm_uk_12km_01_day_20301201-20401130.nc`<br>\n",
    "`tasmax_rcp85_land-rcm_uk_12km_01_day_20401201-20501130.nc`<br>\n",
    "`tasmax_rcp85_land-rcm_uk_12km_01_day_20501201-20601130.nc`<br>\n",
    "`tasmax_rcp85_land-rcm_uk_12km_01_day_20601201-20701130.nc`<br>\n",
    "`tasmax_rcp85_land-rcm_uk_12km_01_day_20701201-20801130.nc`<br>"
   ]
  },
  {
   "cell_type": "markdown",
   "metadata": {},
   "source": [
    "## Downloading directly from CEDA Catalogue\n",
    "You can peruse and download datasets through the CEDA Catalogue via direct download from the web page.\n",
    "\n",
    "For example, \n",
    "1. Go to https://catalogue.ceda.ac.uk.\n",
    "2. Sign in or register for an account.\n",
    "2. Type \"ukcp18 mean temperature regional\" into the search bar and click \"search\".\n",
    "3. Scroll to \"UKCP18 Regional Projections on a 12km grid over the UK for 1980-2080\".\n",
    "4. Click the \"Download\" button.\n",
    "5. Now click through the folder structure starting with \"rcp85\" then \"01\" > \"tasmax\" > \"day\" > \"latest\" for daily maximumum surface air temperatures.\n",
    "6. Hover over the \"Actions\" download icon and click on it. You will be asked where to save the file.\n",
    "7. You can similarly go back to step 5 and click through to \"rcp85\" then \"01\" > \"tas\" > \"mon\" > \"latest\" for monthly mean surface air temperatures."
   ]
  },
  {
   "cell_type": "markdown",
   "metadata": {},
   "source": [
    "## Downloading via FTP\n",
    "You can download data via FTP through your web browser or using python"
   ]
  },
  {
   "cell_type": "markdown",
   "metadata": {},
   "source": [
    "### via your browser\n",
    "1. Enter ftp://ftp.ceda.ac.uk.\n",
    "2. Browse to the required dataset, e.g. mean monthly daily temperatures: \"/badc/ukcp18/data/land-rcm/uk/12km/rcp85/01/tas/mon/latest\".\n",
    "3. Click on file and download it.\n",
    "4. Similarly browse to the required maximum daily temperature datasets \"/badc/ukcp18/data/land-rcm/uk/12km/rcp85/01/tas/mon/latest\""
   ]
  },
  {
   "cell_type": "markdown",
   "metadata": {},
   "source": [
    "### on a MacOS device\n",
    "\n",
    "1. From your desktop enter COMMAND+K to get the \"Connect to Server\" window.\n",
    "2. Enter ftp://ftp.ceda.ac.uk\n",
    "3. Login with your username and password\n",
    "4. A Finder window should open and you can browse through to \"/badc/ukcp18/data/land-rcm/uk/12km/rcp85/01/tas/mon/latest\"\n",
    "5. Similarly browse to the maximum daily temperature datasets at \"/badc/ukcp18/data/land-rcm/uk/12km/rcp85/01/tas/mon/latest\""
   ]
  },
  {
   "cell_type": "markdown",
   "metadata": {},
   "source": [
    "### via Python script"
   ]
  },
  {
   "cell_type": "code",
   "execution_count": null,
   "metadata": {},
   "outputs": [],
   "source": [
    "# Import required python modules\n",
    "import ftplib\n",
    "\n",
    "# login to FTP\n",
    "f = ftplib.FTP('ftp://ftp.ceda.ac.uk', USERNAME, PASSWORD)\n",
    "\n",
    "# download a mean monthly temperatures for UKCP regional on the Orndance Survey's British National Grid\n",
    "f.cwd('/badc/ukcp18/data/land-rcm/uk/12km/rcp85/01/tas/mon/latest')\n",
    "file = 'tas_rcp85_land-rcm_uk_12km_01_mon_198012-208011.nc'\n",
    "f.retrbinary(\"RETR %s\" % file, open(file, \"wb\").write)\n",
    "\n",
    "# Close FTP connection\n",
    "f.close()"
   ]
  },
  {
   "cell_type": "markdown",
   "metadata": {},
   "source": [
    "## Downloading via OpenDAP\n",
    "This method requires installing additional Python packages and explained [here](https://help.ceda.ac.uk/article/4712-reading-netcdf-with-python-opendap#script). Namely \n",
    "1. Once you've installed a conda environment, install netcdf4\n",
    "2. Download [simple_file_downloader.py](https://github.com/cedadev/opendap-python-example/blob/master/simple_file_downloader.py) from the CEDA Archive web pages\n",
    "3. Ensure you've saved your username and password<br>\n",
    "`$ export CEDA_USERNAME=some_user`<br>\n",
    "`$ export CEDA_PASSWORD=some_password`<br>\n",
    "4. Run Python script for the file of interest<br>\n",
    "`$ python remote_nc_reader.py http://dap.ceda.ac.uk/badc/ukcp18/data/land-rcm/uk/12km/rcp85/01/tas/mon/latest/tas_rcp85_land-rcm_uk_12km_01_mon_198012-208011.nc tas`\n",
    "\n",
    "You can also set up a script which calls [remote_nc_reader.py](https://github.com/cedadev/opendap-python-example/blob/master/remote_nc_reader.py) upon which simple_file_downloader.py is based. remote_nc_reader sets up your security credentials and then gets the netcdf file that you request."
   ]
  }
 ],
 "metadata": {
  "kernelspec": {
   "display_name": "default-current",
   "language": "python",
   "name": "default-current"
  },
  "language_info": {
   "codemirror_mode": {
    "name": "ipython",
    "version": 3
   },
   "file_extension": ".py",
   "mimetype": "text/x-python",
   "name": "python",
   "nbconvert_exporter": "python",
   "pygments_lexer": "ipython3",
   "version": "3.6.8"
  }
 },
 "nbformat": 4,
 "nbformat_minor": 2
}
