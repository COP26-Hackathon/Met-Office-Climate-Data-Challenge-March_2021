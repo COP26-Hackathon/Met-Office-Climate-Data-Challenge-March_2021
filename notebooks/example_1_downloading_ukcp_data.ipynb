{
 "cells": [
  {
   "cell_type": "markdown",
   "metadata": {},
   "source": [
    "# Met Office Climate Data Hackathon\n",
    "\n",
    "## Downloading the UK Climate Projections data from the CEDA Archive\n",
    "\n",
    "This notebook provides an example of how to retrieve UK Climate Projections data from the CEDA Ardhive.\n",
    "\n",
    "This module requires the following:\n",
    "\n",
    "*  Python packages in your environment \n",
    " * iris\n",
    "\n",
    "* username and password. To register for access sign up at https://services.ceda.ac.uk/cedasite/register/info/"
   ]
  },
  {
   "cell_type": "code",
   "execution_count": 2,
   "metadata": {},
   "outputs": [],
   "source": [
    "# load required Python packages\n",
    "import iris"
   ]
  },
  {
   "cell_type": "code",
   "execution_count": null,
   "metadata": {},
   "outputs": [],
   "source": []
  }
 ],
 "metadata": {
  "kernelspec": {
   "display_name": "experimental-current",
   "language": "python",
   "name": "experimental-current"
  },
  "language_info": {
   "codemirror_mode": {
    "name": "ipython",
    "version": 3
   },
   "file_extension": ".py",
   "mimetype": "text/x-python",
   "name": "python",
   "nbconvert_exporter": "python",
   "pygments_lexer": "ipython3",
   "version": "3.6.6"
  }
 },
 "nbformat": 4,
 "nbformat_minor": 4
}
